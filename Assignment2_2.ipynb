{
 "cells": [
  {
   "cell_type": "markdown",
   "metadata": {
    "collapsed": false
   },
   "source": [
    "# FDU PRML 2023 Fall Assignment 2.1\n",
    "\n",
    "Name: 干磊  \n",
    "<your name>\n",
    "Student ID: 21307130211\n",
    "<your student id>\n",
    "\n",
    "<font color='red'>**Deadline: 2023-11-20 23:59**</font>\n",
    "<font color='red'>**Overall score weight: 70/100**</font>\n",
    "\n",
    "In this semester, we are going to complete 3 assignments, each may contain **2-3 parts**. This is the second (and the last) part of the second assignment, in which we will get to implement our own Pytorch-like library.\n",
    "\n",
    "## 1. FDUNN: your toy torch-like deep learning library (40 points)\n",
    "\n",
    "In this assignment, you will fist implement your own torch-like deep learning library with `numpy`, named `fdunn`.\n",
    "\n",
    "PyTorch: [Link](https://pytorch.org/)"
   ]
  },
  {
   "cell_type": "code",
   "execution_count": 2,
   "metadata": {
    "collapsed": false,
    "pycharm": {
     "name": "#%%\n"
    }
   },
   "outputs": [],
   "source": [
    "# setup code, auto reload your .py file\n",
    "%load_ext autoreload\n",
    "%autoreload 2\n",
    "\n",
    "# numpy\n",
    "import numpy as np\n",
    "np.random.seed(233)\n",
    "\n",
    "# matplotlib\n",
    "%matplotlib inline\n",
    "from matplotlib import pyplot as plt"
   ]
  },
  {
   "cell_type": "markdown",
   "metadata": {
    "collapsed": false
   },
   "source": [
    "You have to impletement several standard deep neural network modules in the `./fdunn` folder:\n",
    "1.   linear/conv/pooling\n",
    "2.   activation\n",
    "3.   loss\n",
    "4.   optim\n",
    "5.   trainer\n",
    "\n",
    "We have written most of the code for you already, and you only need to fill in the most essential parts. We have also prepared several test cases for you to check if your code works correctly.\n",
    "\n",
    "Furthermore, you can also test the accuracy of your code by comparing its output with the output of sk-learn."
   ]
  },
  {
   "cell_type": "markdown",
   "metadata": {},
   "source": [
    "--------\n",
    "#### 注：下面会对自己实现的几个模块进行测试\n",
    "测试方式是：取torch里面对应的模块，然后给同样的输入，检查输出是否相同\n",
    "\n",
    "-------"
   ]
  },
  {
   "cell_type": "markdown",
   "metadata": {},
   "source": [
    "### 1.1 test Linear\n",
    "\n",
    "We'll compare it with torch.nn.Linear"
   ]
  },
  {
   "cell_type": "code",
   "execution_count": 3,
   "metadata": {
    "collapsed": false,
    "pycharm": {
     "name": "#%%\n"
    }
   },
   "outputs": [
    {
     "name": "stdout",
     "output_type": "stream",
     "text": [
      "d:\\AelearningFile\\InClass\\2023Autumn\\PRML\\Assignment\\AS2\\2_2\n",
      "['d:\\\\AelearningFile\\\\InClass\\\\2023Autumn\\\\PRML\\\\Assignment\\\\AS2\\\\2_2', 'd:\\\\software\\\\Conda\\\\envs\\\\conflict\\\\python310.zip', 'd:\\\\software\\\\Conda\\\\envs\\\\conflict\\\\DLLs', 'd:\\\\software\\\\Conda\\\\envs\\\\conflict\\\\lib', 'd:\\\\software\\\\Conda\\\\envs\\\\conflict', '', 'd:\\\\software\\\\Conda\\\\envs\\\\conflict\\\\lib\\\\site-packages', 'd:\\\\software\\\\Conda\\\\envs\\\\conflict\\\\lib\\\\site-packages\\\\win32', 'd:\\\\software\\\\Conda\\\\envs\\\\conflict\\\\lib\\\\site-packages\\\\win32\\\\lib', 'd:\\\\software\\\\Conda\\\\envs\\\\conflict\\\\lib\\\\site-packages\\\\Pythonwin', 'd:\\\\AelearningFile\\\\InClass\\\\2023Autumn\\\\PRML\\\\Assignment\\\\AS2\\\\2_2', 'd:\\\\AelearningFile\\\\InClass\\\\2023Autumn\\\\PRML\\\\Assignment\\\\AS2\\\\2_2', 'd:\\\\AelearningFile\\\\InClass\\\\2023Autumn\\\\PRML\\\\Assignment\\\\AS2\\\\2_2', 'd:\\\\AelearningFile\\\\InClass\\\\2023Autumn\\\\PRML\\\\Assignment\\\\AS2\\\\2_2']\n",
      "Output equal\n",
      "grad_x equal\n",
      "grad_w equal\n",
      "grad_b equal\n"
     ]
    }
   ],
   "source": [
    "#from fdunn import *\n",
    "import torch\n",
    "import torch.nn as nn\n",
    "from fdunn.modules.linear import Linear\n",
    "\n",
    "# test Linear\n",
    "input_dim = 16\n",
    "output_dim = 32\n",
    "X = torch.randn(4,input_dim,requires_grad=True)\n",
    "torch_linear = nn.Linear(input_dim,output_dim)\n",
    "fdu_linear   = Linear(input_dim,output_dim)\n",
    "\n",
    "torch_linear.weight.data = torch.Tensor(fdu_linear.params['W'])\n",
    "torch_linear.bias.data = torch.Tensor(fdu_linear.params['b'])\n",
    "\n",
    "torch_linear.train()\n",
    "y_torch = torch_linear(X)\n",
    "y_fdu   = fdu_linear(X.detach().numpy())\n",
    "\n",
    "#check output\n",
    "np.testing.assert_allclose(y_fdu, y_torch.detach().numpy(), rtol=1e-5, atol=1e-5)\n",
    "print('Output equal')\n",
    "\n",
    "\n",
    "grad_y_torch = torch.ones_like(y_torch)\n",
    "y_torch.backward(grad_y_torch)\n",
    "grad_x_fdu = fdu_linear.backward(grad_y_torch.numpy())\n",
    "grad_w_torch = torch_linear.weight.grad.numpy()\n",
    "grad_b_torch = torch_linear.bias.grad.numpy()\n",
    "\n",
    "# check grad\n",
    "np.testing.assert_allclose(grad_x_fdu, X.grad.detach().numpy(), rtol=1e-5, atol=1e-5)\n",
    "print('grad_x equal')\n",
    "np.testing.assert_allclose(fdu_linear.grads['W'], grad_w_torch, rtol=1e-5, atol=1e-5)\n",
    "print('grad_w equal')\n",
    "np.testing.assert_allclose(fdu_linear.grads['b'], grad_b_torch, rtol=1e-5, atol=1e-5)\n",
    "print('grad_b equal')"
   ]
  },
  {
   "cell_type": "markdown",
   "metadata": {},
   "source": [
    "### 1.2 Conv2d Test\n",
    "compare ours with torch.nn.Conv2d"
   ]
  },
  {
   "cell_type": "code",
   "execution_count": 4,
   "metadata": {},
   "outputs": [
    {
     "name": "stdout",
     "output_type": "stream",
     "text": [
      "Output equal\n",
      "grad_x equal\n",
      "grad_w equal\n",
      "grad_b equal\n"
     ]
    }
   ],
   "source": [
    "from fdunn.modules.conv import Conv2d\n",
    "\n",
    "in_channels = 2\n",
    "out_channels = 3\n",
    "kernel_size  = 3\n",
    "\n",
    "conv_torch = nn.Conv2d(in_channels,out_channels,kernel_size)\n",
    "conv_fdu = Conv2d(in_channels,out_channels,kernel_size)\n",
    "\n",
    "conv_torch.weight.data = torch.Tensor(conv_fdu.params['W'])\n",
    "conv_torch.bias.data = torch.Tensor(conv_fdu.params['b'])\n",
    "\n",
    "\n",
    "X = torch.randn(4,in_channels,28,28,requires_grad=True)\n",
    "y_torch = conv_torch(X)\n",
    "y_fdu = conv_fdu(X.detach().numpy())\n",
    "\n",
    "#check output\n",
    "np.testing.assert_allclose(y_fdu, y_torch.detach().numpy(), rtol=1e-5, atol=1e-5)\n",
    "print('Output equal')\n",
    "\n",
    "#check gradient\n",
    "grad_y_torch = torch.ones_like(y_torch)\n",
    "y_torch.backward(grad_y_torch)\n",
    "grad_x_fdu = conv_fdu.backward(grad_y_torch.numpy())\n",
    "grad_w_torch = conv_torch.weight.grad.numpy()\n",
    "grad_b_torch = conv_torch.bias.grad.numpy()\n",
    "\n",
    "np.testing.assert_allclose(grad_x_fdu, X.grad.detach().numpy(), rtol=1e-5, atol=1e-4)\n",
    "print('grad_x equal')\n",
    "np.testing.assert_allclose(conv_fdu.grads['W'], grad_w_torch, rtol=1e-5, atol=1e-4)\n",
    "print('grad_w equal')\n",
    "\n",
    "np.testing.assert_allclose(conv_fdu.grads['b'], grad_b_torch, rtol=1e-5, atol=1e-4)\n",
    "print('grad_b equal')"
   ]
  },
  {
   "cell_type": "markdown",
   "metadata": {},
   "source": [
    "### 1.3 MaxPool2d Test\n",
    "\n",
    "We'll compare it with torch.nn.MaxPool2d"
   ]
  },
  {
   "cell_type": "code",
   "execution_count": 5,
   "metadata": {},
   "outputs": [
    {
     "name": "stdout",
     "output_type": "stream",
     "text": [
      "Output equal\n",
      "grad_x equal\n"
     ]
    }
   ],
   "source": [
    "from fdunn.modules.pooling import MaxPool2d\n",
    "\n",
    "kernel_size = 2\n",
    "stride = 2\n",
    "pool_fdu = MaxPool2d(kernel_size=kernel_size,stride=stride)\n",
    "pool_torch = torch.nn.MaxPool2d(kernel_size=kernel_size,stride=stride)\n",
    "\n",
    "X = torch.randn(4,3,28,28,requires_grad=True)\n",
    "y_torch = pool_torch(X)\n",
    "y_fdu = pool_fdu(X.detach().numpy())\n",
    "\n",
    "#check output\n",
    "np.testing.assert_allclose(y_fdu, y_torch.detach().numpy(), rtol=1e-5, atol=1e-5)\n",
    "print('Output equal')\n",
    "\n",
    "#check gradient\n",
    "grad_y_torch = torch.ones_like(y_torch)\n",
    "y_torch.backward(grad_y_torch)\n",
    "grad_x_fdu = pool_fdu.backward(grad_y_torch.numpy())\n",
    "\n",
    "np.testing.assert_allclose(grad_x_fdu, X.grad.detach().numpy(), rtol=1e-5, atol=1e-4)\n",
    "print('grad_x equal')"
   ]
  },
  {
   "cell_type": "markdown",
   "metadata": {},
   "source": [
    "### 1.4 Sigmoid Test\n",
    "\n",
    "compare it with torch.sigmoid()"
   ]
  },
  {
   "cell_type": "code",
   "execution_count": 6,
   "metadata": {},
   "outputs": [
    {
     "name": "stdout",
     "output_type": "stream",
     "text": [
      "Output equal\n",
      "grad_x equal\n"
     ]
    }
   ],
   "source": [
    "from fdunn.modules.activation import Sigmoid\n",
    "\n",
    "sigmoid_fdu = Sigmoid()\n",
    "X = torch.randn(4,3,28,28,requires_grad=True)\n",
    "y_torch = torch.sigmoid(X)\n",
    "y_fdu = sigmoid_fdu(X.detach().numpy())\n",
    "#check output\n",
    "np.testing.assert_allclose(y_fdu, y_torch.detach().numpy(), rtol=1e-5, atol=1e-5)\n",
    "print('Output equal')\n",
    "\n",
    "#check gradient\n",
    "grad_y_torch = torch.ones_like(y_torch)\n",
    "y_torch.backward(grad_y_torch)\n",
    "grad_x_fdu = sigmoid_fdu.backward(grad_y_torch.numpy())\n",
    "\n",
    "np.testing.assert_allclose(grad_x_fdu, X.grad.detach().numpy(), rtol=1e-5, atol=1e-4)\n",
    "print('grad_x equal')"
   ]
  },
  {
   "cell_type": "markdown",
   "metadata": {},
   "source": [
    "### 1.5 Test CrossEntropy\n",
    "\n",
    "We'll compare it with torch.nn.functional.cross_entropy"
   ]
  },
  {
   "cell_type": "code",
   "execution_count": 7,
   "metadata": {},
   "outputs": [
    {
     "name": "stdout",
     "output_type": "stream",
     "text": [
      "Output equal\n"
     ]
    }
   ],
   "source": [
    "from torch.nn.functional import cross_entropy\n",
    "from fdunn.modules.loss import CrossEntropyLoss\n",
    "\n",
    "class IdentityModel():\n",
    "    def __init__(self):\n",
    "        pass\n",
    "    def forward(self, input):\n",
    "        return input\n",
    "\n",
    "    def backward(self, output_grad):\n",
    "        return output_grad\n",
    "\n",
    "y_pred = torch.randn(4,10)\n",
    "y_true = torch.randn(4,10)\n",
    "loss_torch = cross_entropy(y_pred,y_true)\n",
    "CE_fdu     = CrossEntropyLoss(IdentityModel)\n",
    "loss_fdu   = CE_fdu(y_pred.numpy(),y_true.numpy())\n",
    "\n",
    "np.testing.assert_allclose(loss_fdu,loss_torch.detach().numpy(), rtol=1e-5, atol=1e-5)\n",
    "print('Output equal')"
   ]
  },
  {
   "cell_type": "markdown",
   "metadata": {
    "collapsed": false
   },
   "source": [
    "## 2. Deep Learning with Image/Text Data (20 points)\n",
    "\n",
    "Use your fdunn lib to perform image classification on MNIST or CIFAR10 dataset.\n",
    "\n",
    "- MNIST: http://yann.lecun.com/exdb/mnist/\n",
    "- CIFAR10: https://www.cs.toronto.edu/~kriz/cifar.html"
   ]
  },
  {
   "cell_type": "code",
   "execution_count": 8,
   "metadata": {
    "collapsed": false,
    "is_executing": true
   },
   "outputs": [],
   "source": [
    "#get dataset using torch\n",
    "import torch\n",
    "from torchvision import datasets, transforms\n",
    "from torch.utils.data import DataLoader\n",
    "\n",
    "# 定义数据转换，将图像转换为张量并归一化\n",
    "transform = transforms.Compose([transforms.ToTensor(), transforms.Normalize((0.5,), (0.5,))])\n",
    "\n",
    "batch = 16\n",
    "\n",
    "# 获取MNIST训练数据集\n",
    "train_dataset = datasets.MNIST(root='./data', train=True, transform=transform, download=False)\n",
    "train_loader  = DataLoader(train_dataset,batch_size=batch,shuffle=True)\n",
    "# 获取MNIST测试数据集\n",
    "test_dataset  = datasets.MNIST(root='./data', train=False, transform=transform, download=False)\n",
    "test_loader   = DataLoader(test_dataset ,batch_size=batch,shuffle=True)\n",
    "\n"
   ]
  },
  {
   "cell_type": "code",
   "execution_count": 26,
   "metadata": {},
   "outputs": [],
   "source": [
    "from fdunn.modules.base import Module\n",
    "from fdunn.modules.activation import ReLU\n",
    "\n",
    "class Model(Module):\n",
    "    def __init__(self) -> None:\n",
    "        self.conv1 = Conv2d(1,6,5)\n",
    "        self.relu1 = ReLU()\n",
    "        self.pool1  = MaxPool2d(2,2)\n",
    "        self.conv2 = Conv2d(6,16,3)\n",
    "        self.relu2 = ReLU()\n",
    "        self.pool2  = MaxPool2d(2,2)\n",
    "        self.fc1   = Linear(16*5*5,120)\n",
    "        self.relu3 = ReLU()\n",
    "        self.fc2   = Linear(120,84)\n",
    "        self.relu4 = ReLU()\n",
    "        self.fc3   = Linear(84,10)\n",
    "        self.layers = {\n",
    "            'conv1':self.conv1,\n",
    "            'relu1':self.relu1,\n",
    "            'pool1':self.pool1,\n",
    "            'conv2':self.conv2,\n",
    "            'relu2':self.relu2,\n",
    "            'pool2':self.pool2,\n",
    "            'fc1':self.fc1,\n",
    "            'relu3':self.relu3,\n",
    "            'fc2':self.fc2,\n",
    "            'relu4':self.relu4,\n",
    "            'fc3':self.fc3}\n",
    "        \n",
    "    def forward(self,x):\n",
    "        x = self.pool1(self.relu1(self.conv1(x)))\n",
    "        x = self.pool2(self.relu2(self.conv2(x)))\n",
    "        x = x.reshape(x.shape[0],-1)\n",
    "        x = self.relu3(self.fc1(x))\n",
    "        x = self.relu4(self.fc2(x))\n",
    "        x = self.fc3(x)\n",
    "    \n",
    "        return x\n",
    "    \n",
    "    def backward(self, output_grad):\n",
    "        grad = self.fc3.backward(output_grad)\n",
    "        grad = self.relu4.backward(grad)\n",
    "        grad = self.fc2.backward(grad)\n",
    "        grad = self.relu3.backward(grad)\n",
    "        grad = self.fc1.backward(grad)\n",
    "        \n",
    "        grad = grad.reshape(-1, 16, 5, 5)  # 恢复pooling之前的形状\n",
    "        \n",
    "        grad = self.pool2.backward(grad)\n",
    "        grad = self.relu2.backward(grad)\n",
    "        grad = self.conv2.backward(grad)\n",
    "        \n",
    "        grad = self.pool1.backward(grad)\n",
    "        grad = self.relu1.backward(grad)\n",
    "        grad = self.conv1.backward(grad)\n",
    "        \n",
    "        return grad\n",
    "\n",
    "model = Model()\n",
    "\n",
    "loss_history = []"
   ]
  },
  {
   "cell_type": "code",
   "execution_count": 18,
   "metadata": {},
   "outputs": [
    {
     "name": "stdout",
     "output_type": "stream",
     "text": [
      "loss history:\n",
      " [8638.4501953125, 8581.294921875, 7591.48486328125, 2252.728515625, 1053.446044921875, 752.1578369140625, 605.9782104492188, 517.53955078125, 459.9164123535156, 417.7870788574219, 386.4608459472656, 359.871826171875, 338.58831787109375, 320.2797546386719, 304.1206970214844, 289.1596984863281, 276.3130187988281, 263.42071533203125, 254.5855255126953, 245.12893676757812, 236.19668579101562, 227.7873077392578, 220.13450622558594, 210.99118041992188, 206.568115234375, 200.12147521972656, 194.1234588623047, 188.2694549560547, 183.5987548828125, 177.21812438964844, 173.2720489501953, 168.22998046875, 164.48477172851562, 160.5376739501953, 157.07977294921875, 151.9627227783203, 148.963623046875, 145.983642578125, 141.44326782226562, 138.97506713867188, 136.67054748535156, 132.89529418945312, 130.31771850585938, 127.20108032226562, 124.59286499023438, 120.96067810058594, 119.96495819091797, 117.07197570800781, 113.61637115478516, 111.7655029296875, 110.50514221191406]\n"
     ]
    }
   ],
   "source": [
    "\n",
    "from fdunn.optim.sgd import SGD\n",
    "from fdunn.optim.adam import Adam\n",
    "\n",
    "from fdunn.modules.loss import CrossEntropyLoss\n",
    "\n",
    "from tqdm import tqdm\n",
    "\n",
    "\n",
    "optimizer = SGD(model,lr=0.01)\n",
    "#optimizer = Adam(model,lr=0.01)\n",
    "loss_fn = CrossEntropyLoss(model)\n",
    "\n",
    "num_epoch = 0 #50\n",
    "\n",
    "def one_hot(labels,num_classes):\n",
    "    one_hot_labels = np.zeros((labels.shape[0], num_classes), dtype=np.float32)\n",
    "    one_hot_labels[np.arange(labels.shape[0]), labels] = 1\n",
    "\n",
    "    return one_hot_labels\n",
    "\n",
    "\n",
    "\n",
    "mode    = 'train'\n",
    "\n",
    "if len(loss_history)>0:\n",
    "    # if already trained , print loss_history\n",
    "    print('loss history:\\n',loss_history)\n",
    "else:\n",
    "    # train from scratch\n",
    "    for epoch in range(num_epoch):\n",
    "        loss_total = 0\n",
    "        for i_batch,datum in tqdm(enumerate(train_loader),desc=f'epoch{epoch}',total=len(train_loader)):\n",
    "            X = datum[0].numpy()\n",
    "            label = datum[1].numpy()\n",
    "            y = one_hot(label,10)\n",
    "            y_pred = model(X)\n",
    "            loss = loss_fn(y_pred,y)\n",
    "            label_pred = np.argmax(y_pred, 1)\n",
    "            #print(label_pred == label)\n",
    "            correct = (label_pred == label).sum()\n",
    "            #acc_cnt += correct.item()\n",
    "            loss_total+=loss.item()\n",
    "            #num_exp += batch        \n",
    "            if mode =='train':\n",
    "                loss_fn.backward()\n",
    "                optimizer.step()\n",
    "                \n",
    "        loss_history.append(loss_total)\n",
    "    \n"
   ]
  },
  {
   "cell_type": "markdown",
   "metadata": {},
   "source": [
    "#### Accuracy of each class"
   ]
  },
  {
   "cell_type": "code",
   "execution_count": 39,
   "metadata": {},
   "outputs": [
    {
     "name": "stderr",
     "output_type": "stream",
     "text": [
      "100%|██████████| 625/625 [12:17<00:00,  1.18s/it]"
     ]
    },
    {
     "name": "stdout",
     "output_type": "stream",
     "text": [
      "Accuracy for 0     is 99.8 %\n",
      "Accuracy for 1     is 99.0 %\n",
      "Accuracy for 2     is 98.5 %\n",
      "Accuracy for 3     is 99.3 %\n",
      "Accuracy for 4     is 98.9 %\n",
      "Accuracy for 5     is 98.9 %\n",
      "Accuracy for 6     is 97.4 %\n",
      "Accuracy for 7     is 99.3 %\n",
      "Accuracy for 8     is 95.9 %\n",
      "Accuracy for 9     is 98.0 %\n",
      "Average Acc: 98.5\n"
     ]
    },
    {
     "name": "stderr",
     "output_type": "stream",
     "text": [
      "\n"
     ]
    }
   ],
   "source": [
    "classes = ('0', '1', '2', '3', '4', '5', '6', '7', '8', '9' )\n",
    "# Measure accuracy for each class\n",
    "correct_pred = {classname: 0 for classname in classes}\n",
    "total_pred = {classname: 0 for classname in classes}\n",
    "\n",
    "for data in tqdm(test_loader):\n",
    "    images, labels = data\n",
    "    outputs = model(images.numpy())\n",
    "    predictions = np.argmax(outputs, 1)\n",
    "    # collect the correct predictions for each class\n",
    "    for label, prediction in zip(labels, predictions):\n",
    "        if label == prediction:\n",
    "            correct_pred[classes[label]] += 1\n",
    "        total_pred[classes[label]] += 1\n",
    "\n",
    "# Print accuracy statistics\n",
    "average_accuray = []\n",
    "for classname, correct_count in correct_pred.items():\n",
    "    accuracy = 100 * float(correct_count) / total_pred[classname]\n",
    "    average_accuray.append(accuracy)\n",
    "    print(f'Accuracy for {classname:5s} is {accuracy:.1f} %')\n",
    "print (f'Average Acc: {np.mean(average_accuray):.1f}')"
   ]
  },
  {
   "cell_type": "markdown",
   "metadata": {
    "collapsed": false
   },
   "source": [
    "## 3. Advanced Topics (10 points)\n",
    "\n",
    "You can try to implement some advanced topics in deep learning with our fdunn in this section.\n",
    "\n",
    "We will divide the topics into two categories: modules and optimization, with 5 points for each category.\n",
    "\n",
    "### 3.1 Modules\n",
    "\n",
    "Pick one of the following (trending or classic) topics and implement it with fdunn. Try to implement it and design a toy test case to show that your implementation is correct (say we can compare the forward and backward results with the results of corresponding Pytorch modules with the same weight).\n",
    "\n",
    "- Batch/Layer/Group Normalization (just one of them is fine)\n",
    "- A ReLU/GeLU/SiLU activation function (just one of them is fine)\n",
    "- A Gated Linear Unit (GLU)\n",
    "- An RNN cell\n",
    "- Or any other modules you are interested in\n",
    "\n",
    "\n",
    "### 3.2 Optimization\n",
    "\n",
    "Pick one of the following optimization methods and implement it with fdunn.\n",
    "\n",
    "- SGD with L2 regularization. (Try to repeat your experiment in Assignment 1.1 to see the same 'underregularization' to 'overregularization' phenomenon)\n",
    "- Adam (Does it converge faster than SGD in the last section?)\n",
    "- Or any other optimization methods you are interested in (I am far from an expert in optimization, so maybe you can teach me something new here. Say a second order method?)\n",
    "\n",
    "\n",
    "If you are not sure about what to do, We suggest you to implement the ReLU activation function and SGD with L2 regularization. They are foundamental and (relatively) easy to implement.\n",
    "\n",
    "Different methods do not vary in scores. So do not chase fancy methods unless you are quite interested in them.\n",
    "\n",
    "There are many ways to prove your implementation is correct, as long as they are convincing."
   ]
  },
  {
   "cell_type": "markdown",
   "metadata": {
    "collapsed": false
   },
   "source": [
    "### 3.1 Relu\n",
    "\n",
    "I choose to implement ReLU as it is really useful \n",
    "\n",
    "The definition of class ReLU is in `modules/activation.py`\n",
    "\n",
    "And I have already used ReLU in the model for MNIST classification task\n",
    "\n",
    "The following code tests if my ReLU is the same as torch.nn.ReLU"
   ]
  },
  {
   "cell_type": "code",
   "execution_count": 155,
   "metadata": {},
   "outputs": [
    {
     "name": "stdout",
     "output_type": "stream",
     "text": [
      "Output equal\n",
      "grad_x equal\n"
     ]
    }
   ],
   "source": [
    "from fdunn.modules.activation import ReLU\n",
    "\n",
    "\n",
    "ReLU_fdu = ReLU()\n",
    "ReLU_torch = torch.nn.ReLU()\n",
    "\n",
    "X = torch.randn(4,32,32,requires_grad=True)\n",
    "y_torch = ReLU_torch(X)\n",
    "y_fdu   = ReLU_fdu(X.detach().numpy())\n",
    "\n",
    "#check output\n",
    "np.testing.assert_allclose(y_fdu, y_torch.detach().numpy(), rtol=1e-5, atol=1e-5)\n",
    "print('Output equal')\n",
    "\n",
    "#check gradient\n",
    "grad_y_torch = torch.ones_like(y_torch)\n",
    "y_torch.backward(grad_y_torch)\n",
    "grad_x_fdu = ReLU_fdu.backward(grad_y_torch.numpy())\n",
    "\n",
    "np.testing.assert_allclose(grad_x_fdu, X.grad.detach().numpy(), rtol=1e-5, atol=1e-4)\n",
    "print('grad_x equal')"
   ]
  },
  {
   "cell_type": "markdown",
   "metadata": {},
   "source": [
    "### 3.2 Adam\n",
    "\n",
    "Implement our Adam in `fdunn\\modules\\optim\\adam.py`\n",
    "\n",
    "在上一个section已经有用过Adam进行训练  \n",
    "下面画出用两种优化器训练时，不同epoch对应的loss曲线。"
   ]
  },
  {
   "cell_type": "code",
   "execution_count": 183,
   "metadata": {},
   "outputs": [
    {
     "data": {
      "text/plain": [
       "<matplotlib.legend.Legend at 0x2a412f5ebf0>"
      ]
     },
     "execution_count": 183,
     "metadata": {},
     "output_type": "execute_result"
    },
    {
     "data": {
      "image/png": "[encoded data removed]",
      "text/plain": [
       "<Figure size 640x480 with 1 Axes>"
      ]
     },
     "metadata": {},
     "output_type": "display_data"
    }
   ],
   "source": [
    "\n",
    "#下面画出用两种方式进行训练，不同epoch时的loss曲线\n",
    "Adam_loss = [8638.4501953125,620.7177124023438, 213.89102172851562, 151.4208526611328, 121.59040069580078, 102.30972290039062, 84.56820678710938, 70.83726501464844, 63.41128158569336, 59.32310104370117, 49.94365310668945, 47.72056579589844, 44.224159240722656, 44.746707916259766, 37.37348937988281, 44.117801666259766, 40.23704528808594, 36.00308609008789, 35.042484283447266, 30.296903610229492, 33.94499969482422]\n",
    "SGD_loss = [8638.4501953125,8581.294921875, 7591.48486328125, 2252.728515625, 1053.446044921875, 752.1578369140625, 605.9782104492188, 517.53955078125, 459.9164123535156, 417.7870788574219, 386.4608459472656, 359.871826171875, 338.58831787109375, 320.2797546386719, 304.1206970214844, 289.1596984863281, 276.3130187988281, 263.42071533203125, 254.5855255126953, 245.12893676757812, 236.19668579101562, 227.7873077392578, 220.13450622558594, 210.99118041992188, 206.568115234375, 200.12147521972656, 194.1234588623047, 188.2694549560547, 183.5987548828125, 177.21812438964844, 173.2720489501953, 168.22998046875, 164.48477172851562, 160.5376739501953, 157.07977294921875, 151.9627227783203, 148.963623046875, 145.983642578125, 141.44326782226562, 138.97506713867188, 136.67054748535156, 132.89529418945312, 130.31771850585938, 127.20108032226562, 124.59286499023438, 120.96067810058594, 119.96495819091797, 117.07197570800781, 113.61637115478516, 111.7655029296875, 110.50514221191406]\n",
    "\n",
    "plt.plot(list(range(len(Adam_loss))),Adam_loss,label='Adam')\n",
    "plt.plot(list(range(len(SGD_loss))),SGD_loss,label='SGD')\n",
    "plt.title('Loss history')\n",
    "plt.xlabel('Epoch')\n",
    "plt.xlabel('Cross Entropy')\n",
    "plt.legend()"
   ]
  },
  {
   "cell_type": "markdown",
   "metadata": {},
   "source": [
    "epoch = 0 时表示初始的模型，没有进行训练  \n",
    "\n",
    "由图可见，Adam 相较与SGD可以快速地让loss下降  \n",
    "\n",
    "SGD的loss下降到150左右的时候，loss随epoch的下降变得极其缓慢，限于时间原因，这里没有再继续训练使其降低到100以下  \n",
    "\n",
    "Adam的loss可以快速下降，只需5轮训练即可降到100以下，20轮即接近收敛。"
   ]
  },
  {
   "cell_type": "markdown",
   "metadata": {},
   "source": [
    "-------\n",
    "### 3.3 补充：模型参数的保存和加载\n",
    "\n",
    "torch里面提供了方便的保存模型参数的方法，我们这里给出类似的保存参数的函数  \n",
    "要求是 model 的layers是一个字典，保存层的名字和该层模块\n",
    "\n",
    "提交的文件包含了model_ckpt.npy，所以助教老师可以验证下面代码的有效性和模型的性能"
   ]
  },
  {
   "cell_type": "code",
   "execution_count": 32,
   "metadata": {},
   "outputs": [],
   "source": [
    "def get_state_dict(model):\n",
    "    state_dict = {}\n",
    "    for name, layer in model.layers.items():\n",
    "        if hasattr(layer, 'params'):\n",
    "            state_dict[name + '.weight'] = layer.params['W']\n",
    "            state_dict[name + '.bias'] = layer.params['b']\n",
    "    return state_dict\n",
    "\n",
    "\n",
    "def load_state_dict(state_dict_path, model):\n",
    "    state_dict = np.load(state_dict_path, allow_pickle=True).item()\n",
    "    for name, layer in model.layers.items():\n",
    "        if hasattr(layer, 'params'):\n",
    "            layer.params['W'] = state_dict[name + '.weight']\n",
    "            layer.params['b'] = state_dict[name + '.bias']\n",
    "            \n",
    "\n",
    "#保存checkpoint            \n",
    "saved_state_dict = get_state_dict(model)\n",
    "np.save('model_ckpt.npy', saved_state_dict)"
   ]
  },
  {
   "cell_type": "code",
   "execution_count": 38,
   "metadata": {},
   "outputs": [
    {
     "name": "stderr",
     "output_type": "stream",
     "text": [
      "  1%|          | 7/625 [00:08<12:12,  1.19s/it]"
     ]
    },
    {
     "name": "stdout",
     "output_type": "stream",
     "text": [
      "Average Acc: 96.4%\n"
     ]
    },
    {
     "name": "stderr",
     "output_type": "stream",
     "text": [
      "\n"
     ]
    }
   ],
   "source": [
    "#新建一个未训练的模型，并加载训练好的参数\n",
    "new_model = Model()\n",
    "load_state_dict('./model_ckpt.npy',new_model)\n",
    "\n",
    "\n",
    "#直接在100个样本上做推理\n",
    "classes = ('0', '1', '2', '3', '4', '5', '6', '7', '8', '9' )\n",
    "# Measure accuracy for each class\n",
    "\n",
    "cnt = 0\n",
    "correct_count = 0\n",
    "for data in tqdm(test_loader):\n",
    "    if (cnt>100):\n",
    "        break\n",
    "    cnt += batch\n",
    "    images, labels = data\n",
    "    labels = labels.numpy()\n",
    "    outputs = new_model(images.numpy())\n",
    "    predictions = np.argmax(outputs, 1)\n",
    "    correct_count += (labels == predictions).sum().item()\n",
    "    # collect the correct predictions for each class\n",
    "\n",
    "# Print accuracy statistics\n",
    "print (f'Average Acc: {(correct_count/cnt)*100:.1f}%')"
   ]
  }
 ],
 "metadata": {
  "kernelspec": {
   "display_name": "Python 3",
   "language": "python",
   "name": "python3"
  },
  "language_info": {
   "codemirror_mode": {
    "name": "ipython",
    "version": 3
   },
   "file_extension": ".py",
   "mimetype": "text/x-python",
   "name": "python",
   "nbconvert_exporter": "python",
   "pygments_lexer": "ipython3",
   "version": "3.10.0"
  }
 },
 "nbformat": 4,
 "nbformat_minor": 0
}
